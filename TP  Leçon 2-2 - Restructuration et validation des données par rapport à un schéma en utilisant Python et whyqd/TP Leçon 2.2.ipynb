{
 "cells": [
  {
   "cell_type": "markdown",
   "metadata": {},
   "source": [
    "# Schéma"
   ]
  },
  {
   "cell_type": "code",
   "execution_count": 1,
   "metadata": {},
   "outputs": [],
   "source": [
    "import whyqd as _w\n",
    "schema = _w.Schema()\n"
   ]
  },
  {
   "cell_type": "code",
   "execution_count": 4,
   "metadata": {},
   "outputs": [],
   "source": [
    "details = {\n",
    "\"name\": \"lieracy-enrolment-report\",\n",
    "\"title\": \"Literacy and Enrolment 1985 - 2005\",\n",
    "\"description\": \"A schema for the first exercise\"\n",
    "}\n",
    "schema = _w.Schema()\n",
    "schema.set_details(**details)"
   ]
  },
  {
   "cell_type": "code",
   "execution_count": 5,
   "metadata": {},
   "outputs": [
    {
     "data": {
      "text/plain": [
       "Schema: `lieracy-enrolment-report`"
      ]
     },
     "execution_count": 5,
     "metadata": {},
     "output_type": "execute_result"
    }
   ],
   "source": [
    "schema"
   ]
  },
  {
   "cell_type": "code",
   "execution_count": 11,
   "metadata": {},
   "outputs": [],
   "source": [
    "fields=[\n",
    "        {\n",
    "            \"name\": \"HDI_rank\",\n",
    "            \"title\": \"HDI rank\",\n",
    "            \"type\": \"number\",\n",
    "            \"description\": \"Rang de l'indice de développement humain du pays\",\n",
    "            \"constraints\": {\n",
    "                \"required\":True\n",
    "            }\n",
    "        },    \n",
    "        {\n",
    "            \"name\": \"HDI_level\",\n",
    "            \"title\": \"HDI level\",\n",
    "            \"type\": \"string\",\n",
    "            \"description\": \"Niveau de l'indice de développement humain du pays\",\n",
    "            \"constraints\":{\n",
    "                \"required\": True\n",
    "             }\n",
    "           \n",
    "        },\n",
    "        {\n",
    "            \"name\": \"Country\",\n",
    "            \"title\": \"Country\",\n",
    "            \"type\": \"string\",\n",
    "            \"description\": \"Nom du pays\",\n",
    "            \"constraints\":{\n",
    "                \"required\": True\n",
    "                }\n",
    "        },\n",
    "        {\n",
    "            \"name\": \"Adult_literacy_rate_1985-1994\",\n",
    "            \"title\": \"Adult literacy rate 1985-1994 (%)\",\n",
    "            \"type\": \"number\",\n",
    "            \"description\": \"Taux d'alphabétisation des adultes de 1985-1994 en pourcentage\",\n",
    "            \"constraints\":{\n",
    "                \"required\": True\n",
    "                }\n",
    "\n",
    "        },\n",
    "    {\n",
    "            \"name\": \"Adult_literacy_rate_1995-2005\",\n",
    "            \"title\": \"Adult literacy rate 1995-2005 (%)\",\n",
    "            \"type\": \"number\",\n",
    "            \"description\": \"Taux d'alphabétisation des adultes de 1995-2005 en pourcentage\",\n",
    "            \"constraints\":{\n",
    "                \"required\": True\n",
    "                }\n",
    "},\n",
    "    {\n",
    "            \"name\": \"MDG_Youth_literacy_rate_1985-1994\",\n",
    "            \"title\": \"MDG Youth literacy rate  1985-1994  (%)\",\n",
    "            \"type\": \"number\",\n",
    "            \"description\": \"Taux d'alphabétisation des jeunes de 1985 à 1994 en pourcentage\",\n",
    "            \"constraints\":{\n",
    "                \"required\": True\n",
    "                }\n",
    "},\n",
    "    {\n",
    "            \"name\": \"MDG_Youth_literacy_rate_1995-2005\",\n",
    "            \"title\": \"MDG Youth literacy rate  1995-2005  (%)\",\n",
    "            \"type\": \"number\",\n",
    "            \"description\": \"Taux d'alphabétisation des jeunes de 1995 à 2005 en pourcentage\",\n",
    "            \"constraints\":{\n",
    "                \"required\": True\n",
    "                }\n",
    "},\n",
    "    {\n",
    "            \"name\": \"MDG_Net_primary_enrol_rate_1991\",\n",
    "            \"title\": \"MDG Net primary enrolment rate 1991 (%)\",\n",
    "            \"type\": \"number\",\n",
    "            \"description\": \"Taux (en pourcentage) d'inscription à l'école primaire en 1991\",\n",
    "            \"constraints\":{\n",
    "                \"required\": True\n",
    "                }\n",
    "},\n",
    "    {\n",
    "            \"name\": \"MDG_Net_primary_enrol_rate_2005\",\n",
    "            \"title\": \"MDG Net primary enrolment rate 2005 (%)\",\n",
    "            \"type\": \"number\",\n",
    "            \"description\": \"Taux (en pourcentage) d'inscription à l'école primaire en 2005\",\n",
    "            \"constraints\":{\n",
    "                \"required\": True\n",
    "                }\n",
    "},\n",
    "    \n",
    "    {\n",
    "            \"name\": \"Net second_enrol_rate_1991\",\n",
    "            \"title\": \"Net secondary enrolment rate 1991 (%)\",\n",
    "            \"type\": \"number\",\n",
    "            \"description\": \"Taux (en pourcentage) d'inscription au secondaire en 1991\",\n",
    "            \"constraints\":{\n",
    "                \"required\": True\n",
    "                }\n",
    "},\n",
    "    {\n",
    "            \"name\": \"Net second_ enrol_rate_2005\",\n",
    "            \"title\": \"Net secondary enrolment rate 2005 (%)\",\n",
    "            \"type\": \"number\",\n",
    "            \"description\": \"Taux (en pourcentage) d'inscription au secondaire en 2005\",\n",
    "            \"constraints\":{\n",
    "                \"required\": True\n",
    "                }\n",
    "},\n",
    "     {\n",
    "            \"name\": \"MDG_Child_reach_grade_5 _1991\",\n",
    "            \"title\": \"Children reaching grade 5 (% of grade 1 cohort) in 1991\",\n",
    "            \"type\": \"number\",\n",
    "            \"description\": \"Taux (en pourcentage) des enfants qui atteignent le niveau 5 en 1991\",\n",
    "            \"constraints\":{\n",
    "                \"required\": True\n",
    "                }\n",
    "},\n",
    "    {\n",
    "            \"name\": \"MDG_Child_reach_grade_5_2004\",\n",
    "            \"title\": \"Children reaching grade 5 (% of grade 1 cohort) in 2004\",\n",
    "            \"type\": \"number\",\n",
    "            \"description\": \"Taux (en pourcentage) des enfants qui atteignent le niveau 5 en 2004\",\n",
    "            \"constraints\":{\n",
    "                \"required\": True\n",
    "                }\n",
    "},\n",
    "     {\n",
    "            \"name\": \"Tertiary_stud_rate_1999-2005\",\n",
    "            \"title\": \"Tertiary students in science engineering manufacturing and construction(% of tertiary students) from 1999 to 2005\",\n",
    "            \"type\": \"number\",\n",
    "            \"description\": \"Taux (en pourcentage) des etudiants en science, ingénieurie, indutrie et bâtiment de 1999 à 2005\",\n",
    "            \"constraints\":{\n",
    "                \"required\": True\n",
    "                }\n",
    "} \n",
    "    \n",
    "    ]"
   ]
  },
  {
   "cell_type": "code",
   "execution_count": 12,
   "metadata": {},
   "outputs": [],
   "source": [
    "for field in fields:\n",
    "    schema.set_field(**field)        "
   ]
  },
  {
   "cell_type": "code",
   "execution_count": 13,
   "metadata": {},
   "outputs": [
    {
     "data": {
      "text/plain": [
       "['string',\n",
       " 'number',\n",
       " 'integer',\n",
       " 'boolean',\n",
       " 'object',\n",
       " 'array',\n",
       " 'date',\n",
       " 'datetime',\n",
       " 'year']"
      ]
     },
     "execution_count": 13,
     "metadata": {},
     "output_type": "execute_result"
    }
   ],
   "source": [
    "schema.default_field_types"
   ]
  },
  {
   "cell_type": "code",
   "execution_count": 14,
   "metadata": {},
   "outputs": [
    {
     "data": {
      "text/plain": [
       "{'name': 'field_name',\n",
       " 'type': 'string',\n",
       " 'constraints': {'description': 'The following constraints are supported.',\n",
       "  'properties': {'required': {'type': 'boolean',\n",
       "    'description': 'Indicates whether a property must have a value for each instance.'},\n",
       "   'unique': {'type': 'boolean',\n",
       "    'description': 'When `true`, each value for the property `MUST` be unique.'},\n",
       "   'category': {'minItems': 1,\n",
       "    'description': 'A list of dictionary terms with `name` & (optional) `description`, and with minimum length `minItems`.'},\n",
       "   'minimum': {'type': 'integer',\n",
       "    'description': 'An integer that specifies the minimum length of a value.'},\n",
       "   'maximum': {'type': 'integer',\n",
       "    'description': 'An integer that specifies the maximum length of a value.'}}},\n",
       " 'title': 'A human-readable version of the field name',\n",
       " 'description': 'Any text-based string.',\n",
       " 'foreignKey': {'type': 'boolean',\n",
       "  'description': 'Set `foreignKey` `true` if the field is to be treated as an immutable value.'},\n",
       " 'required': ['name', 'type'],\n",
       " 'format': {'description': 'The format keyword options for `string` are `default`, `email`, `uri`, `binary`, and `uuid`.',\n",
       "  'category': ['default', 'email', 'uri', 'binary', 'uuid'],\n",
       "  'default': 'default'},\n",
       " 'missing': {'description': 'Default to be used for missing values.',\n",
       "  'default': ''}}"
      ]
     },
     "execution_count": 14,
     "metadata": {},
     "output_type": "execute_result"
    }
   ],
   "source": [
    "schema.default_field_settings('string')"
   ]
  },
  {
   "cell_type": "code",
   "execution_count": null,
   "metadata": {},
   "outputs": [],
   "source": [
    "schema.field(\"HDI_rank\")"
   ]
  },
  {
   "cell_type": "code",
   "execution_count": 23,
   "metadata": {},
   "outputs": [],
   "source": [
    "import os"
   ]
  },
  {
   "cell_type": "code",
   "execution_count": 24,
   "metadata": {},
   "outputs": [
    {
     "data": {
      "text/plain": [
       "True"
      ]
     },
     "execution_count": 24,
     "metadata": {},
     "output_type": "execute_result"
    }
   ],
   "source": [
    "directory = F\"{os.getcwd()}\\\\\"\n",
    "# vous pouvez également spécifier un nom de fichier facultatif\n",
    "# si vous l'omettez, le nom du fichier sera par défaut le nom du schéma\n",
    "filename = \"literacy-enrolment-report-schema\"\n",
    "# si le fichier existe déjà, vous devrez spécifier \"overwrite=True\" sinon vous obtiendrez une erreur\n",
    "schema.save(directory, filename=filename, overwrite=True)"
   ]
  },
  {
   "cell_type": "code",
   "execution_count": 25,
   "metadata": {},
   "outputs": [
    {
     "data": {
      "text/plain": [
       "['hdi_rank',\n",
       " 'hdi_rank',\n",
       " 'hdi_level',\n",
       " 'country',\n",
       " 'adult_literacy_rate_1985-1994',\n",
       " 'adult_literacy_rate_1995-2005',\n",
       " 'mdg_youth_literacy_rate_1985-1994',\n",
       " 'mdg_youth_literacy_rate_1995-2005',\n",
       " 'mdg_net_primary_enrol_rate_1991',\n",
       " 'mdg_net_primary_enrol_rate_2005',\n",
       " 'net_second_enrol_rate_1991',\n",
       " 'net_second__enrol_rate_2005',\n",
       " 'mdg_child_reach_grade_5__1991',\n",
       " 'mdg_child_reach_grade_5_2004',\n",
       " 'tertiary_stud_rate_1999-2005']"
      ]
     },
     "execution_count": 25,
     "metadata": {},
     "output_type": "execute_result"
    }
   ],
   "source": [
    "schema.all_field_names"
   ]
  },
  {
   "cell_type": "markdown",
   "metadata": {},
   "source": [
    "# Création de méthode"
   ]
  },
  {
   "cell_type": "code",
   "execution_count": null,
   "metadata": {},
   "outputs": [],
   "source": []
  }
 ],
 "metadata": {
  "kernelspec": {
   "display_name": "Python 3",
   "language": "python",
   "name": "python3"
  },
  "language_info": {
   "codemirror_mode": {
    "name": "ipython",
    "version": 3
   },
   "file_extension": ".py",
   "mimetype": "text/x-python",
   "name": "python",
   "nbconvert_exporter": "python",
   "pygments_lexer": "ipython3",
   "version": "3.7.7"
  }
 },
 "nbformat": 4,
 "nbformat_minor": 4
}
